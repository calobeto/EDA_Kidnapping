{
 "cells": [
  {
   "cell_type": "code",
   "execution_count": 1,
   "metadata": {},
   "outputs": [],
   "source": [
    "from urllib.request import urlopen\n",
    "from urllib.parse import urlparse\n",
    "from bs4 import BeautifulSoup\n",
    "import re\n",
    "import datetime\n",
    "import random\n",
    "import pandas as pd"
   ]
  },
  {
   "cell_type": "code",
   "execution_count": 2,
   "metadata": {},
   "outputs": [
    {
     "name": "stdout",
     "output_type": "stream",
     "text": [
      "<li class=\"first leaf\"><a class=\"active\" href=\"/\" title=\"\">Inicio</a></li>\n",
      "<li class=\"leaf\"><a href=\"/desaparecidos\" title=\"\">Desaparecidos</a></li>\n",
      "<li class=\"last leaf\"><a href=\"/encontrados\" title=\"\">Encontrados</a></li>\n",
      "<li>\n",
      "<div class=\"views-field views-field-field-imagen\"> <div class=\"field-content\"><img alt=\"\" height=\"573\" src=\"https://teestamosbuscando.pe/sites/default/files/slider/img/banner3.png\" typeof=\"foaf:Image\" width=\"2480\"/></div> </div></li>\n",
      "<li class=\"pager-current first\">1</li>\n",
      "<li class=\"pager-item\"><a href=\"/node?page=1\" title=\"Ir a la página 2\">2</a></li>\n",
      "<li class=\"pager-item\"><a href=\"/node?page=2\" title=\"Ir a la página 3\">3</a></li>\n",
      "<li class=\"pager-item\"><a href=\"/node?page=3\" title=\"Ir a la página 4\">4</a></li>\n",
      "<li class=\"pager-item\"><a href=\"/node?page=4\" title=\"Ir a la página 5\">5</a></li>\n",
      "<li class=\"pager-item\"><a href=\"/node?page=5\" title=\"Ir a la página 6\">6</a></li>\n",
      "<li class=\"pager-item\"><a href=\"/node?page=6\" title=\"Ir a la página 7\">7</a></li>\n",
      "<li class=\"pager-item\"><a href=\"/node?page=7\" title=\"Ir a la página 8\">8</a></li>\n",
      "<li class=\"pager-item\"><a href=\"/node?page=8\" title=\"Ir a la página 9\">9</a></li>\n",
      "<li class=\"pager-ellipsis\">…</li>\n",
      "<li class=\"pager-next\"><a href=\"/node?page=1\">›</a></li>\n",
      "<li class=\"pager-last last\"><a href=\"/node?page=315\">»</a></li>\n"
     ]
    }
   ],
   "source": [
    "# Web to scrape, checking the structure of the pagers and detect total of pagers\n",
    "\n",
    "startingPage = \"https://teestamosbuscando.pe/\"\n",
    "html = urlopen(startingPage)\n",
    "bsObj = BeautifulSoup(html, 'lxml')\n",
    "\n",
    "for pager in bsObj.findAll(\"li\"):\n",
    "    print(pager)"
   ]
  },
  {
   "cell_type": "code",
   "execution_count": 3,
   "metadata": {},
   "outputs": [],
   "source": [
    "# Generating a list of missed people until the last pager\n",
    "#*****************************\n",
    "# Change the number of pagers\n",
    "#*****************************\n",
    "\n",
    "first_page = \"node\"\n",
    "pager = \"node?page=\"\n",
    "pagers = 3\n",
    "\n",
    "missedPagers = [startingPage + pager + str(i) for i in list(range(1,pagers))]\n",
    "missedPagers.insert(0,startingPage + first_page)\n",
    "\n",
    "missedLinks = []\n",
    "\n",
    "for pager in missedPagers:\n",
    "    html = urlopen(pager)\n",
    "    bsObj = BeautifulSoup(html, 'lxml')\n",
    "    for link in bsObj.findAll(\"a\", href = re.compile(\"^(/desaparecido/)\")):\n",
    "        if link.attrs['href'] is not None:\n",
    "            if link.attrs['href'] not in missedLinks:\n",
    "                missedLinks.append(link.attrs['href'])\n",
    "\n",
    "missedLinks = [startingPage[:-1] + link for link in missedLinks]"
   ]
  },
  {
   "cell_type": "code",
   "execution_count": 4,
   "metadata": {},
   "outputs": [
    {
     "name": "stdout",
     "output_type": "stream",
     "text": [
      "3756.7594384319964\n"
     ]
    }
   ],
   "source": [
    "# Collect the details per person in a dataframe\n",
    "\n",
    "from timeit import default_timer as timer\n",
    "\n",
    "missedPages = missedLinks\n",
    "missedList = []\n",
    "\n",
    "start = timer() \n",
    "\n",
    "for missedPage in missedPages:\n",
    "    featureText = []\n",
    "    featureLabel = []\n",
    "    ubigeo = ''\n",
    "    html = urlopen(missedPage)\n",
    "    bsObj = BeautifulSoup(html, 'lxml')\n",
    "    featureObj = bsObj.find(id = \"zone-content\")\n",
    "    \n",
    "    for item in featureObj('div', attrs={'class':'field-item'}):\n",
    "        featureText.append(item.get_text())\n",
    "    featureText.pop(0)\n",
    "    \n",
    "    for item in featureObj('div', attrs={'class':'field-label'}):\n",
    "        featureLabel.append(re.sub(':\\xa0','',item.get_text()).replace(' ','_').lower())\n",
    "    \n",
    "    missed = dict(zip(featureLabel,featureText))\n",
    "    \n",
    "    for item in featureObj.findAll('li'):\n",
    "        ubigeo = ubigeo +  ',' + item.text\n",
    "    missed['ubigeo'] = ubigeo[1:]\n",
    "\n",
    "    missedList.append(missed)\n",
    "\n",
    "end = timer() \n",
    "\n",
    "print(end - start)"
   ]
  },
  {
   "cell_type": "code",
   "execution_count": 26,
   "metadata": {},
   "outputs": [],
   "source": [
    "# Downloading the dataframe generated to a csv file \n",
    "\n",
    "import os\n",
    "# Exportando los datos a csv\n",
    "path = os.getcwd()\n",
    "os.chdir(path +'/missed')\n",
    "\n",
    "dropColumns = ['denunciante','edad_denunciante','sexo_denunciante','cara','discapacidad',\n",
    "               'telefono_denunciante','circunstancias','shorten_url','cejas','tez','vestimenta',\n",
    "               'señas_particulares','dirección','dni','fecha_de_nacimiento','nro_de_denuncia',\n",
    "               'observaciones','parentesco_denunciante','boca','cabellos','nariz','ojos',\n",
    "               'contextura']\n",
    "\n",
    "pd.DataFrame(missedList).drop(dropColumns, axis = 1).to_csv('missed.csv')"
   ]
  },
  {
   "cell_type": "code",
   "execution_count": null,
   "metadata": {},
   "outputs": [],
   "source": []
  },
  {
   "cell_type": "code",
   "execution_count": null,
   "metadata": {},
   "outputs": [],
   "source": []
  }
 ],
 "metadata": {
  "kernelspec": {
   "display_name": "Python 3",
   "language": "python",
   "name": "python3"
  },
  "language_info": {
   "codemirror_mode": {
    "name": "ipython",
    "version": 3
   },
   "file_extension": ".py",
   "mimetype": "text/x-python",
   "name": "python",
   "nbconvert_exporter": "python",
   "pygments_lexer": "ipython3",
   "version": "3.6.4"
  }
 },
 "nbformat": 4,
 "nbformat_minor": 2
}
